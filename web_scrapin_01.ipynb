{
 "cells": [
  {
   "cell_type": "code",
   "execution_count": 22,
   "id": "c354c994-a365-493a-a8c4-ccc2bdd4d018",
   "metadata": {},
   "outputs": [],
   "source": [
    "import requests\n",
    "from bs4 import BeautifulSoup\n",
    "import datetime\n",
    "import csv\n",
    "import pandas as pd\n",
    "import os\n"
   ]
  },
  {
   "cell_type": "code",
   "execution_count": 31,
   "id": "b695efed-997d-407e-b3b8-9e69c281fe81",
   "metadata": {},
   "outputs": [
    {
     "name": "stdout",
     "output_type": "stream",
     "text": [
      "Top News:\n",
      "Title: Tell HN: Help restore the tax deduction for software dev in the US (Section 174)\n",
      "URL item?id=44226145\n",
      "1.\n"
     ]
    }
   ],
   "source": [
    "URL = \"https://news.ycombinator.com/\"\n",
    "headers = {\"User-Agent\": \"Mozilla/5.0 (Windows NT 10.0; Win64; x64) AppleWebKit/537.36 (KHTML, like Gecko) Chrome/136.0.0.0 Safari/537.36\" ,\"Accept-Encoding\": \"gzip, deflate, br, zstd\",  \"Accept\":\"text/html,application/xhtml+xml,application/xml;q=0.9,*/*;q=0.8\", \"DNT\":\"1\",\"Connection\":\"close\", \"Upgrade-Insecure-Requests\":\"1\" }\n",
    "\n",
    "page = requests.get(URL, headers = headers)\n",
    "\n",
    "soup = BeautifulSoup(page.content, \"html.parser\")\n",
    "\n",
    "news_items= soup.find_all(\"tr\", class_=\"athing submission\")\n",
    "\n",
    "for item in news_items:\n",
    "    rank_tag = item.find(\"span\", class_ =\"rank\")\n",
    "    if rank_tag and rank_tag.text.strip() == \"1.\":\n",
    "        title_line = item.find(\"span\", class_= \"titleline\")\n",
    "        link_tag = titleline.find(\"a\") if titleline else None\n",
    "\n",
    "        if link_tag:\n",
    "            title = link_tag.text.strip()\n",
    "            url = link_tag['href']\n",
    "            print(\"Top News:\")\n",
    "            print(\"Title:\", title)\n",
    "            print(\"URL\", url)\n",
    "            rank = rank_tag.text.strip()\n",
    "            print(rank)\n",
    "        break\n"
   ]
  },
  {
   "cell_type": "code",
   "execution_count": 20,
   "id": "374d3335-6ba1-40f3-a8ee-696a25f578b7",
   "metadata": {},
   "outputs": [],
   "source": [
    "date = datetime.date.today()\n",
    "header = [\"Top1 News\", \"Date\", \"URL\" ]\n",
    "data = [title , date, url ]\n",
    "\n",
    "with open ('HackerNews.csv', 'w', newline='', encoding = 'UTF8') as f:\n",
    "    writer = csv.writer(f)\n",
    "    writer.writerow(header)\n",
    "    writer.writerow(data)\n"
   ]
  },
  {
   "cell_type": "code",
   "execution_count": null,
   "id": "cdcfe1d7-0d13-4285-bc16-dcab9d6fa920",
   "metadata": {},
   "outputs": [],
   "source": []
  },
  {
   "cell_type": "code",
   "execution_count": 26,
   "id": "6d85b3ab-6f41-4326-8ef1-9e79c5a25637",
   "metadata": {},
   "outputs": [
    {
     "name": "stdout",
     "output_type": "stream",
     "text": [
      "                                           Top1 News        Date  \\\n",
      "0  Tell HN: Help restore the tax deduction for so...  2025-06-10   \n",
      "\n",
      "                URL  \n",
      "0  item?id=44226145  \n"
     ]
    }
   ],
   "source": [
    "df= pd.read_csv(r'C:\\\\Users\\\\hp\\\\Desktop\\\\web_scraping-data_collection\\\\HackerNews.csv')\n",
    "print(df)"
   ]
  },
  {
   "cell_type": "code",
   "execution_count": 23,
   "id": "a760df3e-4b29-4286-b7a8-628de8a48095",
   "metadata": {},
   "outputs": [
    {
     "data": {
      "text/plain": [
       "'C:\\\\Users\\\\hp\\\\Desktop\\\\web_scraping-data_collection\\\\HackerNews.csv'"
      ]
     },
     "execution_count": 23,
     "metadata": {},
     "output_type": "execute_result"
    }
   ],
   "source": [
    "os.path.abspath(\"HackerNews.csv\")"
   ]
  },
  {
   "cell_type": "code",
   "execution_count": null,
   "id": "cc423da5-0b78-450f-9076-b1632625327f",
   "metadata": {},
   "outputs": [],
   "source": []
  }
 ],
 "metadata": {
  "kernelspec": {
   "display_name": "Python [conda env:base] *",
   "language": "python",
   "name": "conda-base-py"
  },
  "language_info": {
   "codemirror_mode": {
    "name": "ipython",
    "version": 3
   },
   "file_extension": ".py",
   "mimetype": "text/x-python",
   "name": "python",
   "nbconvert_exporter": "python",
   "pygments_lexer": "ipython3",
   "version": "3.12.7"
  }
 },
 "nbformat": 4,
 "nbformat_minor": 5
}
