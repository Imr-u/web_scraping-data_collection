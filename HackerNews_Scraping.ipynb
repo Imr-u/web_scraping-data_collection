{
 "cells": [
  {
   "cell_type": "code",
   "execution_count": 15,
   "id": "1132f649-f869-4114-b2fe-aaf8b4988d8e",
   "metadata": {},
   "outputs": [],
   "source": [
    "import requests\n",
    "from bs4 import BeautifulSoup\n",
    "import datetime\n",
    "import csv\n",
    "import pandas as pd\n",
    "import os\n",
    "import time\n"
   ]
  },
  {
   "cell_type": "code",
   "execution_count": 16,
   "id": "881ef776-0b4d-494c-a4b9-77766fcbccbc",
   "metadata": {},
   "outputs": [],
   "source": [
    "def newsCheck():\n",
    "    URL = \"https://news.ycombinator.com/\"\n",
    "    headers = {\"User-Agent\": \"Mozilla/5.0 (Windows NT 10.0; Win64; x64) AppleWebKit/537.36 (KHTML, like Gecko) Chrome/136.0.0.0 Safari/537.36\" ,\"Accept-Encoding\": \"gzip, deflate, br, zstd\",  \"Accept\":\"text/html,application/xhtml+xml,application/xml;q=0.9,*/*;q=0.8\", \"DNT\":\"1\",\"Connection\":\"close\", \"Upgrade-Insecure-Requests\":\"1\" }\n",
    "    \n",
    "    page = requests.get(URL, headers = headers)\n",
    "    \n",
    "    soup = BeautifulSoup(page.content, \"html.parser\")\n",
    "    \n",
    "    news_items= soup.find_all(\"tr\", class_=\"athing submission\")\n",
    "    \n",
    "    for item in news_items:\n",
    "        rank_tag = item.find(\"span\", class_ =\"rank\")\n",
    "        if rank_tag and rank_tag.text.strip() == \"1.\":\n",
    "            titleline = item.find(\"span\", class_= \"titleline\")\n",
    "            link_tag = titleline.find(\"a\") if titleline else None\n",
    "    \n",
    "            if link_tag:\n",
    "                title = link_tag.text.strip()\n",
    "                url = link_tag['href']\n",
    "                rank = rank_tag.text.strip()\n",
    "            break\n",
    "    date = datetime.date.today()\n",
    "    header = [\"Top1 News\", \"Date\", \"URL\" ]\n",
    "    data = [title , date, url ]\n",
    "    \n",
    "    with open ('AutoHackerNews.csv', 'a+', newline='', encoding = 'UTF8') as f:\n",
    "        writer = csv.writer(f)\n",
    "       # writer.writerow(header)\n",
    "        writer.writerow(data)"
   ]
  },
  {
   "cell_type": "code",
   "execution_count": 18,
   "id": "65e102ac-44a5-4ebc-ad93-7453fa6f5586",
   "metadata": {},
   "outputs": [
    {
     "ename": "KeyboardInterrupt",
     "evalue": "",
     "output_type": "error",
     "traceback": [
      "\u001b[1;31m---------------------------------------------------------------------------\u001b[0m",
      "\u001b[1;31mKeyboardInterrupt\u001b[0m                         Traceback (most recent call last)",
      "Cell \u001b[1;32mIn[18], line 3\u001b[0m\n\u001b[0;32m      1\u001b[0m \u001b[38;5;28;01mwhile\u001b[39;00m(\u001b[38;5;28;01mTrue\u001b[39;00m):\n\u001b[0;32m      2\u001b[0m     newsCheck()\n\u001b[1;32m----> 3\u001b[0m     time\u001b[38;5;241m.\u001b[39msleep(\u001b[38;5;241m10\u001b[39m)\n",
      "\u001b[1;31mKeyboardInterrupt\u001b[0m: "
     ]
    }
   ],
   "source": [
    "while(True):\n",
    "    newsCheck()\n",
    "    time.sleep(10)"
   ]
  },
  {
   "cell_type": "code",
   "execution_count": 19,
   "id": "baa871a2-222e-4d32-a215-cb99b90ce8f7",
   "metadata": {},
   "outputs": [
    {
     "name": "stdout",
     "output_type": "stream",
     "text": [
      "                                           Top1 News        Date  \\\n",
      "0  Tell HN: Help restore the tax deduction for so...  2025-06-10   \n",
      "1  Tell HN: Help restore the tax deduction for so...  2025-06-10   \n",
      "2  Tell HN: Help restore the tax deduction for so...  2025-06-10   \n",
      "\n",
      "                URL  \n",
      "0  item?id=44226145  \n",
      "1  item?id=44226145  \n",
      "2  item?id=44226145  \n"
     ]
    }
   ],
   "source": [
    "df = pd.read_csv(r'C:\\\\Users\\\\hp\\\\AutoHackerNews.csv')\n",
    "print(df)"
   ]
  },
  {
   "cell_type": "code",
   "execution_count": null,
   "id": "527dcee3-9bac-46a1-89b3-99a76c6c3761",
   "metadata": {},
   "outputs": [],
   "source": []
  }
 ],
 "metadata": {
  "kernelspec": {
   "display_name": "Python [conda env:base] *",
   "language": "python",
   "name": "conda-base-py"
  },
  "language_info": {
   "codemirror_mode": {
    "name": "ipython",
    "version": 3
   },
   "file_extension": ".py",
   "mimetype": "text/x-python",
   "name": "python",
   "nbconvert_exporter": "python",
   "pygments_lexer": "ipython3",
   "version": "3.12.7"
  }
 },
 "nbformat": 4,
 "nbformat_minor": 5
}
